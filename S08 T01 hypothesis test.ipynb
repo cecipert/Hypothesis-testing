{
 "cells": [
  {
   "cell_type": "markdown",
   "id": "ac72d6b4",
   "metadata": {},
   "source": [
    "# S08 T01 Hypotheis testing\n",
    "Dataset de datos deportivos"
   ]
  },
  {
   "cell_type": "code",
   "execution_count": 147,
   "id": "90dd68b0",
   "metadata": {},
   "outputs": [],
   "source": [
    "import pandas as pd\n",
    "from matplotlib import pyplot as plt\n",
    "import seaborn as sns\n",
    "from scipy.stats import ttest_1samp, ttest_ind, f_oneway\n",
    "from statsmodels.stats.multicomp import pairwise_tukeyhsd"
   ]
  },
  {
   "cell_type": "code",
   "execution_count": 148,
   "id": "dc863a4b",
   "metadata": {},
   "outputs": [
    {
     "data": {
      "text/html": [
       "<div>\n",
       "<style scoped>\n",
       "    .dataframe tbody tr th:only-of-type {\n",
       "        vertical-align: middle;\n",
       "    }\n",
       "\n",
       "    .dataframe tbody tr th {\n",
       "        vertical-align: top;\n",
       "    }\n",
       "\n",
       "    .dataframe thead th {\n",
       "        text-align: right;\n",
       "    }\n",
       "</style>\n",
       "<table border=\"1\" class=\"dataframe\">\n",
       "  <thead>\n",
       "    <tr style=\"text-align: right;\">\n",
       "      <th></th>\n",
       "      <th>Team</th>\n",
       "      <th>Tournament</th>\n",
       "      <th>Goals</th>\n",
       "      <th>Shots pg</th>\n",
       "      <th>yellow_cards</th>\n",
       "      <th>red_cards</th>\n",
       "      <th>Possession%</th>\n",
       "      <th>Pass%</th>\n",
       "      <th>AerialsWon</th>\n",
       "      <th>Rating</th>\n",
       "    </tr>\n",
       "  </thead>\n",
       "  <tbody>\n",
       "    <tr>\n",
       "      <th>0</th>\n",
       "      <td>Manchester City</td>\n",
       "      <td>Premier League</td>\n",
       "      <td>83</td>\n",
       "      <td>15.8</td>\n",
       "      <td>46</td>\n",
       "      <td>2</td>\n",
       "      <td>60.8</td>\n",
       "      <td>89.4</td>\n",
       "      <td>12.8</td>\n",
       "      <td>7.01</td>\n",
       "    </tr>\n",
       "    <tr>\n",
       "      <th>1</th>\n",
       "      <td>Bayern Munich</td>\n",
       "      <td>Bundesliga</td>\n",
       "      <td>99</td>\n",
       "      <td>17.1</td>\n",
       "      <td>44</td>\n",
       "      <td>3</td>\n",
       "      <td>58.1</td>\n",
       "      <td>85.5</td>\n",
       "      <td>12.9</td>\n",
       "      <td>6.95</td>\n",
       "    </tr>\n",
       "    <tr>\n",
       "      <th>2</th>\n",
       "      <td>Paris Saint-Germain</td>\n",
       "      <td>Ligue 1</td>\n",
       "      <td>86</td>\n",
       "      <td>15.0</td>\n",
       "      <td>73</td>\n",
       "      <td>7</td>\n",
       "      <td>60.1</td>\n",
       "      <td>89.5</td>\n",
       "      <td>9.5</td>\n",
       "      <td>6.88</td>\n",
       "    </tr>\n",
       "    <tr>\n",
       "      <th>3</th>\n",
       "      <td>Barcelona</td>\n",
       "      <td>LaLiga</td>\n",
       "      <td>85</td>\n",
       "      <td>15.3</td>\n",
       "      <td>68</td>\n",
       "      <td>2</td>\n",
       "      <td>62.4</td>\n",
       "      <td>89.7</td>\n",
       "      <td>10.6</td>\n",
       "      <td>6.87</td>\n",
       "    </tr>\n",
       "    <tr>\n",
       "      <th>4</th>\n",
       "      <td>Real Madrid</td>\n",
       "      <td>LaLiga</td>\n",
       "      <td>67</td>\n",
       "      <td>14.4</td>\n",
       "      <td>57</td>\n",
       "      <td>2</td>\n",
       "      <td>57.7</td>\n",
       "      <td>87.7</td>\n",
       "      <td>11.8</td>\n",
       "      <td>6.86</td>\n",
       "    </tr>\n",
       "    <tr>\n",
       "      <th>5</th>\n",
       "      <td>Manchester United</td>\n",
       "      <td>Premier League</td>\n",
       "      <td>73</td>\n",
       "      <td>13.8</td>\n",
       "      <td>64</td>\n",
       "      <td>1</td>\n",
       "      <td>54.5</td>\n",
       "      <td>84.8</td>\n",
       "      <td>14.5</td>\n",
       "      <td>6.85</td>\n",
       "    </tr>\n",
       "    <tr>\n",
       "      <th>6</th>\n",
       "      <td>Juventus</td>\n",
       "      <td>Serie A</td>\n",
       "      <td>77</td>\n",
       "      <td>15.7</td>\n",
       "      <td>76</td>\n",
       "      <td>6</td>\n",
       "      <td>55.4</td>\n",
       "      <td>88.3</td>\n",
       "      <td>11.4</td>\n",
       "      <td>6.85</td>\n",
       "    </tr>\n",
       "    <tr>\n",
       "      <th>7</th>\n",
       "      <td>Aston Villa</td>\n",
       "      <td>Premier League</td>\n",
       "      <td>55</td>\n",
       "      <td>13.7</td>\n",
       "      <td>63</td>\n",
       "      <td>4</td>\n",
       "      <td>49.1</td>\n",
       "      <td>78.6</td>\n",
       "      <td>19.4</td>\n",
       "      <td>6.84</td>\n",
       "    </tr>\n",
       "    <tr>\n",
       "      <th>8</th>\n",
       "      <td>Borussia Dortmund</td>\n",
       "      <td>Bundesliga</td>\n",
       "      <td>75</td>\n",
       "      <td>14.6</td>\n",
       "      <td>43</td>\n",
       "      <td>1</td>\n",
       "      <td>57.5</td>\n",
       "      <td>85.5</td>\n",
       "      <td>12.8</td>\n",
       "      <td>6.84</td>\n",
       "    </tr>\n",
       "    <tr>\n",
       "      <th>9</th>\n",
       "      <td>Atletico Madrid</td>\n",
       "      <td>LaLiga</td>\n",
       "      <td>67</td>\n",
       "      <td>12.1</td>\n",
       "      <td>100</td>\n",
       "      <td>0</td>\n",
       "      <td>51.8</td>\n",
       "      <td>83.1</td>\n",
       "      <td>14.4</td>\n",
       "      <td>6.84</td>\n",
       "    </tr>\n",
       "  </tbody>\n",
       "</table>\n",
       "</div>"
      ],
      "text/plain": [
       "                  Team      Tournament  Goals  Shots pg  yellow_cards  \\\n",
       "0      Manchester City  Premier League     83      15.8            46   \n",
       "1        Bayern Munich      Bundesliga     99      17.1            44   \n",
       "2  Paris Saint-Germain         Ligue 1     86      15.0            73   \n",
       "3            Barcelona          LaLiga     85      15.3            68   \n",
       "4          Real Madrid          LaLiga     67      14.4            57   \n",
       "5    Manchester United  Premier League     73      13.8            64   \n",
       "6             Juventus         Serie A     77      15.7            76   \n",
       "7          Aston Villa  Premier League     55      13.7            63   \n",
       "8    Borussia Dortmund      Bundesliga     75      14.6            43   \n",
       "9      Atletico Madrid          LaLiga     67      12.1           100   \n",
       "\n",
       "   red_cards  Possession%  Pass%  AerialsWon  Rating  \n",
       "0          2         60.8   89.4        12.8    7.01  \n",
       "1          3         58.1   85.5        12.9    6.95  \n",
       "2          7         60.1   89.5         9.5    6.88  \n",
       "3          2         62.4   89.7        10.6    6.87  \n",
       "4          2         57.7   87.7        11.8    6.86  \n",
       "5          1         54.5   84.8        14.5    6.85  \n",
       "6          6         55.4   88.3        11.4    6.85  \n",
       "7          4         49.1   78.6        19.4    6.84  \n",
       "8          1         57.5   85.5        12.8    6.84  \n",
       "9          0         51.8   83.1        14.4    6.84  "
      ]
     },
     "execution_count": 148,
     "metadata": {},
     "output_type": "execute_result"
    }
   ],
   "source": [
    "df = pd.read_csv(\"Football teams.csv\")\n",
    "df.head(10)"
   ]
  },
  {
   "cell_type": "markdown",
   "id": "749da3ec",
   "metadata": {},
   "source": [
    "## Content\n",
    "Each row contains information for a team. The data shows following statistics for each team:\n",
    "\n",
    "* Team - Name of team\n",
    "* Tournament - Name of tournament\n",
    "* Goals - Number of goals scored in the tournament in year 2020-2021\n",
    "* Shots pg - Number of shots per game\n",
    "* Yellow_cards - Number of yellow cards given in the tournament in year 2020-2021\n",
    "* Red_cards - Number of red cards given in the tournament in year 2020-2021\n",
    "* Possession% - Percentage of possession\n",
    "* Pass% - Percentage of passes\n",
    "* Aerials won - Aerial duels won per game. Aerial duels occur when two players contest a ball in the air; this is a symmetrical event because neither player starts with possession."
   ]
  },
  {
   "cell_type": "code",
   "execution_count": 149,
   "id": "3b92f003",
   "metadata": {},
   "outputs": [
    {
     "name": "stdout",
     "output_type": "stream",
     "text": [
      "<class 'pandas.core.frame.DataFrame'>\n",
      "RangeIndex: 98 entries, 0 to 97\n",
      "Data columns (total 10 columns):\n",
      " #   Column        Non-Null Count  Dtype  \n",
      "---  ------        --------------  -----  \n",
      " 0   Team          98 non-null     object \n",
      " 1   Tournament    98 non-null     object \n",
      " 2   Goals         98 non-null     int64  \n",
      " 3   Shots pg      98 non-null     float64\n",
      " 4   yellow_cards  98 non-null     int64  \n",
      " 5   red_cards     98 non-null     int64  \n",
      " 6   Possession%   98 non-null     float64\n",
      " 7   Pass%         98 non-null     float64\n",
      " 8   AerialsWon    98 non-null     float64\n",
      " 9   Rating        98 non-null     float64\n",
      "dtypes: float64(5), int64(3), object(2)\n",
      "memory usage: 7.8+ KB\n"
     ]
    }
   ],
   "source": [
    "df.info()\n"
   ]
  },
  {
   "cell_type": "code",
   "execution_count": 150,
   "id": "b4573e09",
   "metadata": {},
   "outputs": [
    {
     "data": {
      "text/plain": [
       "Team            0\n",
       "Tournament      0\n",
       "Goals           0\n",
       "Shots pg        0\n",
       "yellow_cards    0\n",
       "red_cards       0\n",
       "Possession%     0\n",
       "Pass%           0\n",
       "AerialsWon      0\n",
       "Rating          0\n",
       "dtype: int64"
      ]
     },
     "execution_count": 150,
     "metadata": {},
     "output_type": "execute_result"
    }
   ],
   "source": [
    "# hay variables sin valor?\n",
    "df.isnull().sum()"
   ]
  },
  {
   "cell_type": "markdown",
   "id": "ee3858f6",
   "metadata": {},
   "source": [
    "## Exercici 1 \n",
    "Calcula el p-valor i digues si rebutja la hipòtesi nul·la agafant un alfa de 5%. \n",
    "Uso la variable yellow_cards"
   ]
  },
  {
   "cell_type": "code",
   "execution_count": 151,
   "id": "81faacb0",
   "metadata": {},
   "outputs": [
    {
     "name": "stdout",
     "output_type": "stream",
     "text": [
      "stat=0.983, p=0.232\n",
      "Probably Gaussian\n"
     ]
    }
   ],
   "source": [
    "# Example of the Shapiro-Wilk Normality Test\n",
    "from scipy.stats import shapiro\n",
    "data = df.yellow_cards\n",
    "stat, p = shapiro(data)\n",
    "print('stat=%.3f, p=%.3f' % (stat, p))\n",
    "if p > 0.05:\n",
    "\tprint('Probably Gaussian')\n",
    "else:\n",
    "\tprint('Probably not Gaussian')"
   ]
  },
  {
   "cell_type": "code",
   "execution_count": 152,
   "id": "2aa56ef9",
   "metadata": {},
   "outputs": [
    {
     "data": {
      "image/png": "[encoded data removed]",
      "text/plain": [
       "<Figure size 720x432 with 1 Axes>"
      ]
     },
     "metadata": {
      "needs_background": "light"
     },
     "output_type": "display_data"
    }
   ],
   "source": [
    "# Histograma de las tarjetas amarillas de cada club\n",
    "plt.figure(figsize=(10, 6))\n",
    "sns.histplot(data=df, x='yellow_cards', bins=9)\n",
    "\n",
    "plt.title('Histograma de la cantidad de tarjetas amarillas de cada club');"
   ]
  },
  {
   "cell_type": "code",
   "execution_count": 153,
   "id": "6b458f9a",
   "metadata": {},
   "outputs": [
    {
     "name": "stdout",
     "output_type": "stream",
     "text": [
      "La media de tarjetas amarillas en esta muestra: 69.704\n"
     ]
    }
   ],
   "source": [
    "print(f'La media de tarjetas amarillas en esta muestra: {df.yellow_cards.mean():.3f}')"
   ]
  },
  {
   "cell_type": "markdown",
   "id": "12b8d1da",
   "metadata": {},
   "source": [
    "El dataset tiene 98 clubes que participaron de un torneo determinado. Creemos que en este torneo se pusieron muchas tarjetas amarillas y que la media de la población es de 68 tarjetas por torneo. Es posible?\n",
    "\n",
    "\n",
    "Como hipóteis nula vamos a suponer que los clubes obtienen, como mucho, una media de 68 tarjetas amarillas por torneo.\n",
    "\n",
    "* $H_0: \\mu_M <= 68$ Los clubes reciben una media de 68 o menos tarjetas amarillas por torneo\n",
    "* $H_1: \\mu_M > 68$ Los clubes obtienen una media mayor a 68 tarjetas amarillas por torneo\n",
    "\n",
    "Nuestra muestra de media 69.704 permite rechazar dicha $H_0$?"
   ]
  },
  {
   "cell_type": "code",
   "execution_count": 154,
   "id": "66ad466c",
   "metadata": {},
   "outputs": [
    {
     "name": "stdout",
     "output_type": "stream",
     "text": [
      "t-statistic = 1.114\n",
      "p-value = 0.134\n",
      "We can not reject H0\n"
     ]
    }
   ],
   "source": [
    "# Uso scipy.stats.ttest_1samp\n",
    "\n",
    "ALPHA = 0.05\n",
    "media_pop = 68\n",
    "\n",
    "stat, p = ttest_1samp(df.yellow_cards, popmean = media_pop, alternative = 'greater')\n",
    "\n",
    "print(f't-statistic = {stat:.3f}\\np-value = {p:.3f}')\n",
    "print('We can not reject H0') if p > ALPHA else print('We can reject H0')"
   ]
  },
  {
   "cell_type": "markdown",
   "id": "813c347c",
   "metadata": {},
   "source": [
    "Este dataset de muestra no permite rechazar la $H_0$. Por lo tanto es posible que la media de la población sea de 68 o menos. \n",
    "\n",
    "Que pasaría si cambiamos las hipótesis?\n",
    "\n",
    "* $H_0: \\mu_M <= 67$ Los clubes reciben una media de 67 o menos tarjetas amarillas por torneo\n",
    "* $H_1: \\mu_M > 67$ Los clubes obtienen una media mayor a 67 tarjetas amarillas por torneo"
   ]
  },
  {
   "cell_type": "code",
   "execution_count": 155,
   "id": "ac2b204f",
   "metadata": {},
   "outputs": [
    {
     "name": "stdout",
     "output_type": "stream",
     "text": [
      "t-statistic = 3.076\n",
      "p-value = 0.001\n",
      "We can reject H0\n"
     ]
    }
   ],
   "source": [
    "# Uso scipy.stats.ttest_1samp\n",
    "\n",
    "ALPHA = 0.05\n",
    "media_pop = 65\n",
    "\n",
    "stat, p = ttest_1samp(df.yellow_cards, popmean = media_pop, alternative = 'greater')\n",
    "\n",
    "print(f't-statistic = {stat:.3f}\\np-value = {p:.3f}')\n",
    "print('We can not reject H0') if p > ALPHA else print('We can reject H0')"
   ]
  },
  {
   "cell_type": "markdown",
   "id": "d81161d6",
   "metadata": {},
   "source": [
    "En este caso podemos rechazar la hipótesis nula, por lo tanto la muestra demuestra que la media de la población no es ni 67 ni menor, con un nivel de confianza del 95%."
   ]
  },
  {
   "cell_type": "markdown",
   "id": "eaa5223a",
   "metadata": {},
   "source": [
    "## Exercici 2\n",
    "Analizar las medias de dos muestras de datos para ver si podemos decir que son las mismas\n",
    "\n",
    "* $H_0: \\mu_1 = \\mu_2$ Las dos muestras tienen la misma media\n",
    "* $H_1: \\mu_1  != \\mu_2$ Las muestras tienen distinta media"
   ]
  },
  {
   "cell_type": "code",
   "execution_count": 156,
   "id": "eb0e3ad0",
   "metadata": {},
   "outputs": [
    {
     "name": "stdout",
     "output_type": "stream",
     "text": [
      "t-statistic = 0.256\n",
      "p-value = 0.799\n",
      "We can not reject H0\n"
     ]
    }
   ],
   "source": [
    "\n",
    "ALPHA = 0.05\n",
    "\n",
    "muestra1 = df.Goals.sample(30, random_state =2)\n",
    "muestra2 = df.Goals.sample(50, random_state =2)\n",
    "\n",
    "stat, p = ttest_ind(muestra1,muestra2, alternative='two-sided', equal_var=False)\n",
    "\n",
    "print(f't-statistic = {stat:.3f}\\np-value = {p:.3f}')\n",
    "print('We can not reject H0') if p > ALPHA else print('We can reject H0')"
   ]
  },
  {
   "cell_type": "markdown",
   "id": "7db2516d",
   "metadata": {},
   "source": [
    "Las muestras obtenidas no son lo suficientemente distintas como para asegurar que no pertenecen a la misma población. "
   ]
  },
  {
   "cell_type": "code",
   "execution_count": 157,
   "id": "50af2e2d",
   "metadata": {},
   "outputs": [
    {
     "name": "stdout",
     "output_type": "stream",
     "text": [
      "t-statistic = -7.760\n",
      "p-value = 0.000\n",
      "We can reject H0\n"
     ]
    }
   ],
   "source": [
    "# Si pruebo con dos variables distintas es probable que no tengan la misma media:\n",
    "\n",
    "ALPHA = 0.05\n",
    "\n",
    "muestra1 = df.Goals\n",
    "muestra2 = df.yellow_cards\n",
    "\n",
    "stat, p = ttest_ind(muestra1,muestra2, alternative='two-sided', equal_var=False)\n",
    "\n",
    "print(f't-statistic = {stat:.3f}\\np-value = {p:.3f}')\n",
    "print('We can not reject H0') if p > ALPHA else print('We can reject H0')"
   ]
  },
  {
   "cell_type": "markdown",
   "id": "6e639637",
   "metadata": {},
   "source": [
    "Con un nivel de confianza del 95% podemos decir que las muestras no tienen la misma media."
   ]
  },
  {
   "cell_type": "markdown",
   "id": "a0d2a020",
   "metadata": {},
   "source": [
    "## Exercici 3\n",
    "Realizar la misma comparación pero con tres muestras"
   ]
  },
  {
   "cell_type": "code",
   "execution_count": 158,
   "id": "52fc4840",
   "metadata": {},
   "outputs": [
    {
     "data": {
      "text/plain": [
       "array(['Premier League', 'Bundesliga', 'Ligue 1', 'LaLiga', 'Serie A'],\n",
       "      dtype=object)"
      ]
     },
     "execution_count": 158,
     "metadata": {},
     "output_type": "execute_result"
    }
   ],
   "source": [
    "pd.unique(df['Tournament'].values)"
   ]
  },
  {
   "cell_type": "code",
   "execution_count": 159,
   "id": "3ace4f4d",
   "metadata": {},
   "outputs": [
    {
     "data": {
      "text/plain": [
       "<AxesSubplot:xlabel='yellow_cards', ylabel='Count'>"
      ]
     },
     "execution_count": 159,
     "metadata": {},
     "output_type": "execute_result"
    },
    {
     "data": {
      "image/png": "[encoded data removed]",
      "text/plain": [
       "<Figure size 432x288 with 1 Axes>"
      ]
     },
     "metadata": {
      "needs_background": "light"
     },
     "output_type": "display_data"
    }
   ],
   "source": [
    "sns.histplot(data=df[df.Tournament.str.match('LaLiga|Serie A|Bundesliga')], x='yellow_cards', hue='Tournament', kde=True, bins=15)"
   ]
  },
  {
   "cell_type": "markdown",
   "id": "08dd02c1",
   "metadata": {},
   "source": [
    "Tengo tres muestras y quiero saber si las tres tienen la misma media:\n",
    "\n",
    "La Hipotesis será:\n",
    "\n",
    "* $H_0: \\mu_1 = \\mu_2 = \\mu_3$ Las tres medias son iguales\n",
    "* $H_1$: Las tres medias no son iguales"
   ]
  },
  {
   "cell_type": "code",
   "execution_count": 160,
   "id": "e3c8fd76",
   "metadata": {},
   "outputs": [
    {
     "name": "stdout",
     "output_type": "stream",
     "text": [
      "F-statistic = 19.102\n",
      "p-value = 0.000\n",
      "We can reject H0\n"
     ]
    }
   ],
   "source": [
    "# Test ANOVA para 3 muestras\n",
    "\n",
    "ALPHA = 0.05\n",
    "\n",
    "muestra1 = df.loc[df.Tournament=='LaLiga','yellow_cards']\n",
    "muestra2 = df.loc[df.Tournament=='Serie A','yellow_cards']\n",
    "muestra3 = df.loc[df.Tournament=='Bundesliga','yellow_cards']\n",
    "\n",
    "stat, p = f_oneway(muestra1, muestra2, muestra3)\n",
    "\n",
    "print(f'F-statistic = {stat:.3f}\\np-value = {p:.3f}')\n",
    "print('We can not reject H0') if p > ALPHA else print('We can reject H0')"
   ]
  },
  {
   "cell_type": "markdown",
   "id": "45647047",
   "metadata": {},
   "source": [
    "Podemos rechazar la hipótesis de que las muestras son iguales con un nivel de confianza del 95%"
   ]
  },
  {
   "cell_type": "markdown",
   "id": "c50a10f1",
   "metadata": {},
   "source": [
    "Puedo rechazar la hipótesis de que las tres medias son iguales con un nivel de confianza del 95%. \n",
    "\n",
    "Pero sería interesante saber cuales de las medias mo coinciden. "
   ]
  },
  {
   "cell_type": "code",
   "execution_count": 161,
   "id": "c6f874b7",
   "metadata": {},
   "outputs": [
    {
     "name": "stdout",
     "output_type": "stream",
     "text": [
      "         Multiple Comparison of Means - Tukey HSD, FWER=0.05          \n",
      "======================================================================\n",
      "    group1         group2     meandiff p-adj   lower    upper   reject\n",
      "----------------------------------------------------------------------\n",
      "    Bundesliga         LaLiga  21.8944  0.001  12.0692  31.7197   True\n",
      "    Bundesliga        Ligue 1  10.8944  0.022   1.0692  20.7197   True\n",
      "    Bundesliga Premier League  -5.3056 0.5555 -15.1308   4.5197  False\n",
      "    Bundesliga        Serie A  19.7944  0.001   9.9692  29.6197   True\n",
      "        LaLiga        Ligue 1    -11.0 0.0158 -20.5632  -1.4368   True\n",
      "        LaLiga Premier League    -27.2  0.001 -36.7632 -17.6368   True\n",
      "        LaLiga        Serie A     -2.1    0.9 -11.6632   7.4632  False\n",
      "       Ligue 1 Premier League    -16.2  0.001 -25.7632  -6.6368   True\n",
      "       Ligue 1        Serie A      8.9 0.0809  -0.6632  18.4632  False\n",
      "Premier League        Serie A     25.1  0.001  15.5368  34.6632   True\n",
      "----------------------------------------------------------------------\n"
     ]
    }
   ],
   "source": [
    "# Comparación de múltiples muestras de a pares (Tukey HSD)\n",
    "\n",
    "ALPHA = 0.05\n",
    "\n",
    "m_comp = pairwise_tukeyhsd(endog=df['yellow_cards'], groups=df['Tournament'], alpha=ALPHA)\n",
    "\n",
    "print(m_comp)"
   ]
  },
  {
   "cell_type": "markdown",
   "id": "6c0c1d85",
   "metadata": {},
   "source": [
    "Con este test se ven los pares de medias que podemos suponer que no son iguales con un nivel de confianza del 95%"
   ]
  },
  {
   "cell_type": "code",
   "execution_count": null,
   "id": "90b62611",
   "metadata": {},
   "outputs": [],
   "source": []
  }
 ],
 "metadata": {
  "kernelspec": {
   "display_name": "Python 3",
   "language": "python",
   "name": "python3"
  },
  "language_info": {
   "codemirror_mode": {
    "name": "ipython",
    "version": 3
   },
   "file_extension": ".py",
   "mimetype": "text/x-python",
   "name": "python",
   "nbconvert_exporter": "python",
   "pygments_lexer": "ipython3",
   "version": "3.8.8"
  }
 },
 "nbformat": 4,
 "nbformat_minor": 5
}
